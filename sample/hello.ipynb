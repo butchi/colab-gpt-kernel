{
 "cells": [
  {
   "cell_type": "code",
   "execution_count": null,
   "metadata": {
    "id": "3SG6VWk1q30v"
   },
   "outputs": [],
   "source": [
    "!pip install git+https://github.com/butchi/colab-gpt-kernel.git"
   ]
  },
  {
   "cell_type": "code",
   "execution_count": 2,
   "metadata": {
    "colab": {
     "base_uri": "https://localhost:8080/"
    },
    "executionInfo": {
     "elapsed": 1199,
     "status": "ok",
     "timestamp": 1757307661776,
     "user": {
      "displayName": "岩淵夕希（物智）",
      "userId": "09936709225955970405"
     },
     "user_tz": -540
    },
    "id": "s8tKSJ48sk1T",
    "outputId": "92d8d96b-c7e0-42e6-c24a-b7ac6a02825b"
   },
   "outputs": [
    {
     "name": "stdout",
     "output_type": "stream",
     "text": [
      "✅ GPTマジック（%%gpt）を登録しました。セルの1行目に %%gpt 、2行目以降にメッセージを入れてShift + Enterを押してください。また、最初にAPIキーをシークレットの openaiApiKey にセットしてください。\n"
     ]
    }
   ],
   "source": [
    "%load_ext gpt_magic"
   ]
  },
  {
   "cell_type": "code",
   "execution_count": null,
   "metadata": {
    "colab": {
     "base_uri": "https://localhost:8080/",
     "height": 487
    },
    "collapsed": true,
    "executionInfo": {
     "elapsed": 13770,
     "status": "ok",
     "timestamp": 1757307699288,
     "user": {
      "displayName": "岩淵夕希（物智）",
      "userId": "09936709225955970405"
     },
     "user_tz": -540
    },
    "id": "mV-n0KGAq5bu",
    "outputId": "dfc348d8-8630-4a3f-b5ae-2935895ab6a8"
   },
   "outputs": [],
   "source": [
    "%%gpt\n",
    "こんにちは"
   ]
  },
  {
   "cell_type": "code",
   "execution_count": null,
   "metadata": {
    "id": "Z6Q-QoIjs0m5"
   },
   "outputs": [],
   "source": []
  }
 ],
 "metadata": {
  "colab": {
   "authorship_tag": "ABX9TyPgULoRW2nNdBRCc71tGB2I",
   "provenance": []
  },
  "kernelspec": {
   "display_name": "Python 3",
   "name": "python3"
  },
  "language_info": {
   "name": "python"
  }
 },
 "nbformat": 4,
 "nbformat_minor": 0
}
